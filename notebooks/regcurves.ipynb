{
 "cells": [
  {
   "cell_type": "code",
   "execution_count": null,
   "id": "fd61a5c3",
   "metadata": {},
   "outputs": [],
   "source": [
    "import datetime\n",
    "import numpy as np\n",
    "import matplotlib.pyplot as plt\n",
    "import seaborn as sns\n",
    "from scipy.stats import special_ortho_group\n",
    "from hisel.select import HSICSelector as Selector"
   ]
  },
  {
   "cell_type": "code",
   "execution_count": null,
   "id": "4b761492",
   "metadata": {},
   "outputs": [],
   "source": [
    "dim_x = 10\n",
    "dim_y = 3\n",
    "dim_z = 5\n",
    "\n",
    "batch_size = int(1e+4)\n",
    "minibatch_size = 250\n",
    "num_of_samples = int(1e+4)\n",
    "number_of_epochs = 3"
   ]
  },
  {
   "cell_type": "code",
   "execution_count": null,
   "id": "0d4f2545",
   "metadata": {},
   "outputs": [],
   "source": [
    "transform_tilde = special_ortho_group.rvs(dim_z)[:dim_y]\n",
    "A = np.random.permutation(np.concatenate((np.eye(dim_z), np.zeros((dim_z, dim_x - dim_z))), axis=1).T).T\n",
    "transform = transform_tilde @ A"
   ]
  },
  {
   "cell_type": "code",
   "execution_count": null,
   "id": "bde18951",
   "metadata": {},
   "outputs": [],
   "source": [
    "x_samples = np.random.uniform(size=(num_of_samples, dim_x))\n",
    "tt = np.repeat(np.expand_dims(transform, axis=0), repeats=num_of_samples, axis=0)\n",
    "y_samples = (tt @ np.expand_dims(x_samples, axis=2))[:, :, 0]"
   ]
  },
  {
   "cell_type": "code",
   "execution_count": null,
   "id": "4c8caf8a",
   "metadata": {},
   "outputs": [],
   "source": [
    "projector = Selector(x_samples, y_samples)"
   ]
  },
  {
   "cell_type": "code",
   "execution_count": null,
   "id": "7e198c95",
   "metadata": {},
   "outputs": [],
   "source": [
    "curve = projector.regularization_curve(\n",
    "    batch_size=batch_size,\n",
    "    minibatch_size=minibatch_size,\n",
    "    number_of_epochs=number_of_epochs\n",
    ")"
   ]
  },
  {
   "cell_type": "code",
   "execution_count": null,
   "id": "994a64fc",
   "metadata": {},
   "outputs": [],
   "source": [
    "paths = projector.lasso_path()\n",
    "paths"
   ]
  },
  {
   "cell_type": "markdown",
   "id": "6551e522",
   "metadata": {},
   "source": [
    "#### Sorted features by decreasing importance"
   ]
  },
  {
   "cell_type": "code",
   "execution_count": null,
   "id": "a503fa32",
   "metadata": {},
   "outputs": [],
   "source": [
    "print(f'Sorted features by decreasing importance: {projector.ordered_features}')"
   ]
  },
  {
   "cell_type": "markdown",
   "id": "3b6679bf",
   "metadata": {},
   "source": [
    "### Test selection"
   ]
  },
  {
   "cell_type": "code",
   "execution_count": null,
   "id": "65f990cd",
   "metadata": {},
   "outputs": [],
   "source": [
    "expected_features = np.argsort(np.sum(A, axis=0))[::-1][:dim_z]\n",
    "noise_features = set(range(dim_x)).difference(set(expected_features))\n",
    "selected_features = np.argsort(paths.iloc[-1, :])[::-1][:dim_z]\n",
    "print(f'Expected features: {sorted(list(expected_features))}')\n",
    "print(f'Selected features: {sorted(list(selected_features))}')\n",
    "for ef in expected_features:\n",
    "    for nf in noise_features:\n",
    "        assert paths.iloc[-1, ef] > paths.iloc[-1, nf]\n",
    "print('Selection was correct!')"
   ]
  },
  {
   "cell_type": "markdown",
   "id": "4e5280cf",
   "metadata": {},
   "source": [
    "## Regularisation curve"
   ]
  },
  {
   "cell_type": "markdown",
   "id": "b578c3c6",
   "metadata": {},
   "source": [
    "#### Cumulative beta"
   ]
  },
  {
   "cell_type": "code",
   "execution_count": null,
   "id": "71c90034",
   "metadata": {},
   "outputs": [],
   "source": [
    "plt.plot(np.arange(1, 1+len(curve)), curve)"
   ]
  },
  {
   "cell_type": "markdown",
   "id": "64d50369",
   "metadata": {},
   "source": [
    "#### Absolute beta"
   ]
  },
  {
   "cell_type": "code",
   "execution_count": null,
   "id": "d4ae8aab",
   "metadata": {},
   "outputs": [],
   "source": [
    "plt.plot(np.arange(1, len(curve)), np.abs(np.diff(curve)))"
   ]
  },
  {
   "cell_type": "markdown",
   "id": "791889d0",
   "metadata": {},
   "source": [
    "## Lasso paths"
   ]
  },
  {
   "cell_type": "code",
   "execution_count": null,
   "id": "df408f64",
   "metadata": {},
   "outputs": [],
   "source": [
    "paths.plot(figsize=(10, 5))"
   ]
  }
 ],
 "metadata": {
  "kernelspec": {
   "display_name": "hiselc",
   "language": "python",
   "name": "hiselc"
  },
  "language_info": {
   "codemirror_mode": {
    "name": "ipython",
    "version": 3
   },
   "file_extension": ".py",
   "mimetype": "text/x-python",
   "name": "python",
   "nbconvert_exporter": "python",
   "pygments_lexer": "ipython3",
   "version": "3.9.16"
  }
 },
 "nbformat": 4,
 "nbformat_minor": 5
}
