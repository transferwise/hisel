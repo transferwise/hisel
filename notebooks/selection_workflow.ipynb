{
 "cells": [
  {
   "cell_type": "code",
   "execution_count": null,
   "id": "ceebafeb",
   "metadata": {},
   "outputs": [],
   "source": [
    "import numpy as np\n",
    "import pandas as pd\n",
    "from scipy.stats import special_ortho_group\n",
    "import matplotlib.pyplot as plt\n",
    "\n",
    "from hisel import select"
   ]
  },
  {
   "cell_type": "code",
   "execution_count": null,
   "id": "2d9d7f3b",
   "metadata": {},
   "outputs": [],
   "source": [
    "n = 5000\n",
    "n_cat = 10\n",
    "n_cont = 30\n",
    "n_relcat = 2\n",
    "n_relcont = 8\n",
    "dim_y = 1"
   ]
  },
  {
   "cell_type": "code",
   "execution_count": null,
   "id": "0f9c7614",
   "metadata": {},
   "outputs": [],
   "source": [
    "ms = np.random.randint(low=5, high=8, size=n_cat)\n",
    "cats = [np.random.randint(m, size=(n, 1)) for m in ms]\n",
    "cat = np.concatenate(cats, axis=1)\n",
    "cat_ = np.expand_dims(cat, axis=2)\n",
    "catdf = pd.DataFrame(cat, columns = [f'cat{n}' for n in range(n_cat)])"
   ]
  },
  {
   "cell_type": "code",
   "execution_count": null,
   "id": "c3d91b1e",
   "metadata": {},
   "outputs": [],
   "source": [
    "acat = np.random.permutation(\n",
    "    np.concatenate((np.diag(np.random.choice([-1, 1], size=n_relcat)), \n",
    "                    np.zeros(shape=(n_relcat, n_cat - n_relcat), dtype=int)),\n",
    "                   axis=1).T).T\n",
    "tcat = np.expand_dims(np.ones(shape=(1, n_relcat), dtype=int) @ acat, axis=0)\n",
    "relevant_cats = np.sort(np.argsort(np.sum(np.abs(acat), axis=0))[::-1][:n_relcat])"
   ]
  },
  {
   "cell_type": "code",
   "execution_count": null,
   "id": "90e4492d",
   "metadata": {},
   "outputs": [],
   "source": [
    "cont = np.random.uniform(low=-1, high=1, size=(n, n_cont))\n",
    "cont_ = np.expand_dims(cont, axis=2)\n",
    "contdf = pd.DataFrame(cont, columns = [f'cont{n}' for n in range(n_cont)])"
   ]
  },
  {
   "cell_type": "code",
   "execution_count": null,
   "id": "92650390",
   "metadata": {},
   "outputs": [],
   "source": [
    "xdf = pd.merge(catdf, contdf, left_index=True, right_index=True)"
   ]
  },
  {
   "cell_type": "code",
   "execution_count": null,
   "id": "cbe310f9",
   "metadata": {},
   "outputs": [],
   "source": [
    "u1 = special_ortho_group.rvs(n_relcont)\n",
    "u2 = special_ortho_group.rvs(n_relcont)\n",
    "acont = np.random.permutation(\n",
    "    np.concatenate((np.eye(n_relcont), np.zeros((n_relcont, n_cont - n_relcont))), axis=1).T).T\n",
    "ct1 = np.expand_dims(u1 @ acont, axis=0)\n",
    "ct2 = np.expand_dims(u2 @ acont, axis=0)\n",
    "relevant_conts = n_cat + np.sort(np.argsort(np.sum(np.abs(acont), axis=0))[::-1][:n_relcont])"
   ]
  },
  {
   "cell_type": "code",
   "execution_count": null,
   "id": "e4d6b8a7",
   "metadata": {},
   "outputs": [],
   "source": [
    "relevant_features = np.sort(np.concatenate((relevant_cats, relevant_conts)))"
   ]
  },
  {
   "cell_type": "code",
   "execution_count": null,
   "id": "cc996cd3",
   "metadata": {},
   "outputs": [],
   "source": [
    "t = np.random.uniform(low=-1, high=1, size=(1, dim_y, n_relcont))"
   ]
  },
  {
   "cell_type": "code",
   "execution_count": null,
   "id": "74d8b7e7",
   "metadata": {},
   "outputs": [],
   "source": [
    "chooser = tcat @ cat_\n",
    "q = np.quantile(chooser, .5)\n",
    "y = np.squeeze(t @ (\n",
    "    (chooser > q) * ct1 @ cont_ +\n",
    "    (chooser <= q) * ct2 @ cont_\n",
    "))"
   ]
  },
  {
   "cell_type": "code",
   "execution_count": null,
   "id": "d515eca3",
   "metadata": {},
   "outputs": [],
   "source": [
    "ydf = pd.DataFrame(y, columns = [f'y{n}' for n in range(dim_y)])"
   ]
  },
  {
   "cell_type": "markdown",
   "id": "c25651c8",
   "metadata": {},
   "source": [
    "## Selection of categorical features"
   ]
  },
  {
   "cell_type": "code",
   "execution_count": null,
   "id": "3a32f32d",
   "metadata": {},
   "outputs": [],
   "source": [
    "cat_selection = select.select(\n",
    "    catdf, \n",
    "    ydf,\n",
    "    hsic_threshold=.01,\n",
    "    batch_size=n,\n",
    "    minibatch_size=200,\n",
    "    number_of_epochs=3,\n",
    "    use_preselection=False,\n",
    ")"
   ]
  },
  {
   "cell_type": "code",
   "execution_count": null,
   "id": "729d6149",
   "metadata": {},
   "outputs": [],
   "source": [
    "expected = sorted(list(relevant_cats))\n",
    "selected = sorted(list(cat_selection.hsic_selection))\n",
    "leftout = sorted(list(set(expected).difference(set(selected))))\n",
    "print(f'Expected features:\\n{expected}')\n",
    "print(f'Selected features:\\n{selected}')\n",
    "print(f'Left-out features:\\n{leftout}')"
   ]
  },
  {
   "cell_type": "markdown",
   "id": "3ebc367b",
   "metadata": {},
   "source": [
    "## Selection of continuous features "
   ]
  },
  {
   "cell_type": "code",
   "execution_count": null,
   "id": "a5f6a028",
   "metadata": {},
   "outputs": [],
   "source": [
    "cont_selection = select.select(\n",
    "    contdf, \n",
    "    ydf,\n",
    "    hsic_threshold=.01,\n",
    "    batch_size=n,\n",
    "    minibatch_size=200,\n",
    "    number_of_epochs=3,\n",
    "    use_preselection=False,\n",
    ")"
   ]
  },
  {
   "cell_type": "code",
   "execution_count": null,
   "id": "2b28c86b",
   "metadata": {},
   "outputs": [],
   "source": [
    "expected = sorted(list(relevant_conts))\n",
    "selected = sorted(list(n_cat + cont_selection.hsic_selection))\n",
    "leftout = sorted(list(set(expected).difference(set(selected))))\n",
    "of = n_cat  + cont_selection.hsic_ordered_features\n",
    "impgrade_of_relconts = {n: int(np.squeeze(np.where(of==n))) for n in expected}\n",
    "print(f'Expected features:\\n{expected}')\n",
    "print(f'Importance grade of relevant features:\\n{impgrade_of_relconts}')\n",
    "print(f'Selected features:\\n{selected}')\n",
    "print(f'Left-out features:\\n{leftout}')"
   ]
  },
  {
   "cell_type": "code",
   "execution_count": null,
   "id": "66ca3f62",
   "metadata": {},
   "outputs": [],
   "source": [
    "curve = cont_selection.regcurve\n",
    "plt.plot(np.arange(1, 1+len(curve)), curve)"
   ]
  },
  {
   "cell_type": "markdown",
   "id": "202c6f62",
   "metadata": {},
   "source": [
    "# HSIC selection "
   ]
  },
  {
   "cell_type": "code",
   "execution_count": null,
   "id": "ff0ab417",
   "metadata": {},
   "outputs": [],
   "source": [
    "selection = select.select(\n",
    "    xdf, \n",
    "    ydf,\n",
    "    hsic_threshold=.0075,\n",
    "    batch_size=n,\n",
    "    minibatch_size=200,\n",
    "    number_of_epochs=3,\n",
    "    use_preselection=False,\n",
    ") # This is the longest to  run"
   ]
  },
  {
   "cell_type": "code",
   "execution_count": null,
   "id": "3b115188",
   "metadata": {},
   "outputs": [],
   "source": [
    "expected = sorted(list(relevant_features))\n",
    "selected = sorted(list(selection.hsic_selection))\n",
    "leftout = sorted(list(set(expected).difference(set(selected))))\n",
    "orderedfeats = list(selection.hsic_ordered_features)\n",
    "of = selection.hsic_ordered_features\n",
    "impgrade_of_relconts = {n:int(np.squeeze(np.where(of==n))) for n in expected}\n",
    "print(f'Expected features:\\n{expected}')\n",
    "print(f'Importance grade of relevant features:\\n{impgrade_of_relconts}')\n",
    "print(f'Selected features:\\n{selected}')\n",
    "print(f'Left-out features:\\n{leftout}')\n",
    "print(f'Features in decreasing order of importance:\\n{orderedfeats}')"
   ]
  },
  {
   "cell_type": "markdown",
   "id": "8d15d80c",
   "metadata": {},
   "source": [
    "## KSG selection"
   ]
  },
  {
   "cell_type": "code",
   "execution_count": null,
   "id": "d38785f7",
   "metadata": {},
   "outputs": [],
   "source": [
    "ksgfeatures, ksgmis = select.ksgmi(xdf, ydf, threshold=.01)"
   ]
  },
  {
   "cell_type": "code",
   "execution_count": null,
   "id": "3b592457",
   "metadata": {},
   "outputs": [],
   "source": [
    "expected = sorted(list(relevant_features))\n",
    "selected = sorted(list(ksgfeatures))\n",
    "leftout = sorted(list(set(expected).difference(set(selected))))\n",
    "print(f'Expected features:\\n{expected}')\n",
    "print(f'Selected features:\\n{selected}')\n",
    "print(f'Left-out features:\\n{leftout}')"
   ]
  },
  {
   "cell_type": "markdown",
   "id": "d0d3ba9a",
   "metadata": {},
   "source": [
    "# HSIC selection with pre-selection "
   ]
  },
  {
   "cell_type": "code",
   "execution_count": null,
   "id": "7dbf25ed",
   "metadata": {},
   "outputs": [],
   "source": [
    "selection = select.select(\n",
    "    xdf, \n",
    "    ydf,\n",
    "    mi_threshold=.0,\n",
    "    hsic_threshold=.0095,\n",
    "    batch_size=n,\n",
    "    minibatch_size=200,\n",
    "    number_of_epochs=3,\n",
    "    use_preselection=True,\n",
    ")"
   ]
  },
  {
   "cell_type": "code",
   "execution_count": null,
   "id": "f2d662b8",
   "metadata": {},
   "outputs": [],
   "source": [
    "expected = sorted(list(relevant_features))\n",
    "preselected = sorted(list(selection.preselection))\n",
    "selected = sorted(list(selection.hsic_selection))\n",
    "preleftout = sorted(list(set(expected).difference(set(preselected))))\n",
    "leftout = sorted(list(set(expected).difference(set(selected))))\n",
    "orderedfeats = list(selection.hsic_ordered_features)\n",
    "mi_orderedfeats = list(selection.mi_ordered_features)\n",
    "print(f'Expected features:\\n{expected}')\n",
    "print(f'Pre-selected features:\\n{preselected}')\n",
    "print(f'Pre-leftout features:\\n{preleftout}')\n",
    "print(f'Selected features:\\n{selected}')\n",
    "print(f'Left-out features:\\n{leftout}')\n",
    "print(f'Features in decreasing order of importance:\\n{orderedfeats}')\n",
    "print(f'Features in decreasing order of MI:\\n{mi_orderedfeats}')"
   ]
  },
  {
   "cell_type": "code",
   "execution_count": null,
   "id": "295ffa89",
   "metadata": {},
   "outputs": [],
   "source": []
  }
 ],
 "metadata": {
  "kernelspec": {
   "display_name": "hiselc",
   "language": "python",
   "name": "hiselc"
  },
  "language_info": {
   "codemirror_mode": {
    "name": "ipython",
    "version": 3
   },
   "file_extension": ".py",
   "mimetype": "text/x-python",
   "name": "python",
   "nbconvert_exporter": "python",
   "pygments_lexer": "ipython3",
   "version": "3.9.16"
  }
 },
 "nbformat": 4,
 "nbformat_minor": 5
}
