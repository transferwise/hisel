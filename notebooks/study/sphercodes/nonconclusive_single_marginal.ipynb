{
 "cells": [
  {
   "cell_type": "code",
   "execution_count": null,
   "id": "c6cede6e",
   "metadata": {},
   "outputs": [],
   "source": [
    "import numpy as np\n",
    "import pandas as pd\n",
    "from sklearn.feature_selection import mutual_info_classif\n",
    "import seaborn as sns\n",
    "\n",
    "import search"
   ]
  },
  {
   "cell_type": "markdown",
   "id": "426d501a",
   "metadata": {},
   "source": [
    "# Example 1: Target depends on two independent features being equal"
   ]
  },
  {
   "cell_type": "markdown",
   "id": "919ea2e2",
   "metadata": {},
   "source": [
    "Let \n",
    "$X_i$, $i=1, \\dots, d$\n",
    "be independent discrete random variables with\n",
    "$X_i$ \n",
    "uniformly distributed on  \n",
    "$\\lbrace 0, \\dots, m_i\\rbrace$.\n",
    "\n",
    "\n",
    "Let\n",
    "$1\\leq  k_0, k_1 \\leq d$\n",
    "be distint integers and let\n",
    "$Y := 1\\lbrace(X_{k_0} = X_{k_1}\\rbrace$\n",
    "be equal to $1$ when $X_{k_0}$ and $X_{k_1}$ are equal,\n",
    "and zero otherwise.\n",
    "\n",
    "Given samples \n",
    "$$\n",
    "\\left\\lbrace\n",
    "\\left(\n",
    "x^{(n)}_{1}, \\dots , x^{(n)}_{d}, y^{(n)}\n",
    "\\right):\n",
    "\\,\\,\n",
    "n = 1,  2 \\dots\n",
    "\\right\\rbrace\n",
    "$$\n",
    "of the discrete random vector\n",
    "$\n",
    "(X_1, \\dots, X_d, Y)\n",
    "$\n",
    "we want a\n",
    "procedure that estimates which of the features\n",
    "$i = 1, \\dots, d$\n",
    "is relevant for the prediction of $Y$. \n",
    "By construction,\n",
    "the correct answer is the pair $\\lbrace k_0, k_1\\rbrace$,\n",
    "and we can evaluate the accuracy of a procedure by comparing the returned feature selection against the expected pair $\\lbrace k_0, k_1\\rbrace$."
   ]
  },
  {
   "cell_type": "code",
   "execution_count": null,
   "id": "798f7c6d",
   "metadata": {},
   "outputs": [],
   "source": [
    "k = 5\n",
    "n = 2000\n",
    "d = 30"
   ]
  },
  {
   "cell_type": "code",
   "execution_count": null,
   "id": "50b99be8",
   "metadata": {},
   "outputs": [],
   "source": [
    "x0 = np.random.randint(k, size=(n, 1))\n",
    "x1 = np.random.randint(k, size=(n, 1))\n",
    "ms = np.random.randint(low=2, high=20, size = d-2)\n",
    "others = [np.random.choice(m, size=(n, 1)) for m in ms]\n",
    "all_ = np.concatenate(\n",
    "    [x0, x1] + others,\n",
    "    axis=1\n",
    ")\n",
    "y = np.asarray(x0[:, 0] == x1[:, 0], dtype=int) # k + x0 - x1 # np.asarray(x0 == x1, dtype=int)\n",
    "permuter =  np.random.permutation(np.eye(d, dtype=int).T).T\n",
    "x = np.array(all_ @ permuter, dtype=int)\n",
    "expected_features = [np.argmax(permuter[0, :]), np.argmax(permuter[1, :])]"
   ]
  },
  {
   "cell_type": "code",
   "execution_count": null,
   "id": "e6236e9e",
   "metadata": {},
   "outputs": [],
   "source": [
    "assert np.all(x[:, expected_features[0]] == x0[:, 0])\n",
    "assert np.all(x[:, expected_features[1]] == x1[:, 0])"
   ]
  },
  {
   "cell_type": "code",
   "execution_count": null,
   "id": "f83edaef",
   "metadata": {},
   "outputs": [],
   "source": [
    "df = pd.DataFrame(x[:, expected_features], columns=[f'f{i}' for i in expected_features])\n",
    "df['y'] = y\n",
    "sns.scatterplot(df, x=f'f{expected_features[0]}', y=f'f{expected_features[1]}', hue='y')"
   ]
  },
  {
   "cell_type": "code",
   "execution_count": null,
   "id": "7b7dd58d",
   "metadata": {},
   "outputs": [],
   "source": [
    "print(f'expected_features:\\n{sorted(expected_features)}')#"
   ]
  },
  {
   "cell_type": "markdown",
   "id": "a61ed3f8",
   "metadata": {},
   "source": [
    "## Comparison of three different feature selection methods"
   ]
  },
  {
   "cell_type": "markdown",
   "id": "cee47bcb",
   "metadata": {},
   "source": [
    "We compare three different methods for feature selection:\n",
    "\n",
    "A. Selection using permutation sampling\n",
    "\n",
    "B. Selection using single-marginal mutual information\n",
    "\n",
    "C. Boruta"
   ]
  },
  {
   "cell_type": "markdown",
   "id": "06e25884",
   "metadata": {},
   "source": [
    "### A. Selection using permutation sampling"
   ]
  },
  {
   "cell_type": "markdown",
   "id": "ae407e6a",
   "metadata": {},
   "source": [
    "For random variables\n",
    "$X$, $Y$,\n",
    "let \n",
    "$I(X, Y) \\geq 0$\n",
    "be a non-negative measure of probabilitstic dependence,\n",
    "such that \n",
    "$I(X, Y) = 0$ \n",
    "if and only if \n",
    "$X$ and $Y$ are independent.\n",
    "Moreover, \n",
    "we assume that,\n",
    "given three random varibales \n",
    "$X$, $Y$, $Z$,\n",
    "we can informally interpret the inequality\n",
    "$I(X,Y) \\leq I(X,Z)$\n",
    "as stating that \n",
    "$X$ is \"more dependent\" on $Z$ than it is on $Y$."
   ]
  },
  {
   "cell_type": "markdown",
   "id": "385c4242",
   "metadata": {},
   "source": [
    "Let \n",
    "$X_i$, $i=1, \\dots, d$\n",
    "be the $d$ features to select from, \n",
    "and let $Y$ be the target.\n",
    "\n",
    "Given a sample size $N$,\n",
    "let \n",
    "$$\n",
    "x_i = \\lbrace x^{n}_i: n=1, \\dots, N\\rbrace\n",
    "$$\n",
    "be samples from $X_i$,\n",
    "and \n",
    "$$\n",
    "y = \\lbrace y^{n}: n=1, \\dots, N\\rbrace\n",
    "$$\n",
    "be samples from $Y$.\n",
    "\n",
    "For indices $i_1, i_2, \\dots, i_k$, we let \n",
    "$I(x_{i_1}, \\dots, x_{i_k}, y)$\n",
    "be the measure of probabilistic dependence \n",
    "between\n",
    "the empirical vector \n",
    "$(x_{i_1}, \\dots, x_{i_p})$\n",
    "sampled from\n",
    "$(X_{i_1}, \\dots, X_{i_p})$\n",
    "and \n",
    "the empirical target\n",
    "$y$\n",
    "sampled from $Y$."
   ]
  },
  {
   "cell_type": "markdown",
   "id": "7a9e06ed",
   "metadata": {},
   "source": [
    "Let \n",
    "$\\sigma^{(1)}, \\dots , \\sigma^{(p)}$\n",
    "be $p$ permutations of length $d$. \n",
    "For\n",
    "$\\ell = 1, \\dots, p$\n",
    "and\n",
    "$k = 1, \\dots, d$\n",
    "let\n",
    "$$\n",
    "I^{(\\ell)}_{k} : =\n",
    "I(x_{\\sigma^{(\\ell)}_{1}}, \\dots, x_{\\sigma^{(\\ell)}_{k}}, y)\n",
    "$$\n",
    "We consider the maximisation problem\n",
    "$$\n",
    "\\max\n",
    "\\left\\lbrace\n",
    "I^{(\\ell)}_{k} :\n",
    "\\,\\,\n",
    "\\ell = 1, \\dots, p,\n",
    "\\,\n",
    "k = 1, \\dots, d\n",
    "\\right\\rbrace.\n",
    "$$\n",
    "Let $\\hat{\\ell}$, $\\hat{k}$ be the maximisers. \n",
    "Then,\n",
    "the features selected by this procedures are\n",
    "$$\n",
    "\\sigma^{(\\hat{\\ell})}_{1}, \\dots, \\sigma^{(\\hat{\\ell})}_{\\hat{k}}.\n",
    "$$"
   ]
  },
  {
   "cell_type": "markdown",
   "id": "9743f40a",
   "metadata": {},
   "source": [
    "The feature selection procedure is then fully specified when we give \n",
    "\n",
    "1) A way to choose the $p$ permutations\n",
    "$\\sigma^{(1)}, \\dots , \\sigma^{(p)}$\n",
    "in\n",
    "$\\mathfrak{S}_d$;\n",
    "\n",
    "2) The measure of probabilistic dependence $I$."
   ]
  },
  {
   "cell_type": "markdown",
   "id": "6f89f6db",
   "metadata": {},
   "source": [
    "#### 1) Choose $p$ permutations $\\sigma^{(1)}, \\dots, \\sigma^{(p)}$ in $\\mathfrak{S}_d$.\n",
    "\n",
    "We use an approach ispired by \n",
    "[Plis et al. (2010)](https://ieeexplore.ieee.org/document/5693994)\n",
    "and\n",
    "[Mitchel et al. (2022)](https://arxiv.org/abs/2104.12199).\n",
    "\n",
    "\n",
    "Let \n",
    "$$\n",
    "f: S^{d-2} \\longrightarrow \\mathfrak{S}_d\n",
    "$$\n",
    "be a surjective continuous map \n",
    "from the unit sphere in $R^{d-1}$\n",
    "to the symmetric group $\n",
    "\\mathfrak{S}_d$ of permutations of length $d$.\n",
    "\n",
    "Assume that $f$ is such that\n",
    "for every $\\sigma$ in $\\mathfrak{S}_d$,\n",
    "the preimage\n",
    "$f^{-1}(\\sigma)$ \n",
    "is connected and \n",
    "there exists a non-empy,  open set \n",
    "$U_{\\sigma} \\subset S^{d-2}$\n",
    "such that \n",
    "$U_{\\sigma} \\subset f^{-1}(\\sigma)$.\n",
    "\n",
    "The map $f$\n",
    "alllows us to transfer \n",
    "the problem of choosing well distributed permutations\n",
    "to \n",
    "the problems of choosing well distributed points on the sphere.\n",
    "The latter is more well-studied \n",
    "and it simplifies our quest. \n",
    "\n",
    "Following\n",
    "Mitchel et al. (2022),\n",
    "we let \n",
    "$$\n",
    "f(x) = \\text{argsort} Px\n",
    "$$\n",
    "where $P$ in $M_{d\\times (d-1)}(R)$ is the projection matrix\n",
    "that maps points in\n",
    "$R^{d-1}$\n",
    "to points in $R^{d}$\n",
    "lying on the hyperplane with normal vector\n",
    "$\\bar{n} = 1/\\sqrt{d} \\cdot \\underbrace{(1, \\dots, 1)}_{d}$\n",
    "\n",
    "We sample points \n",
    "$x_1, x_2, \\dots$\n",
    "on $S^{d-2}$\n",
    "by drawing \n",
    "$U_1, U_2, \\dots$\n",
    "from the Haar distribution on the special orthogonal group $SO(d-1)$:\n",
    "every column $u_i^1, \\dots,  u_i^{d-1}$ of any of these orthogonal matrices $U_i$ gives two \n",
    "antipodal points on the sphere\n",
    "$x_i^{2k} = u_i^{k}$\n",
    "and\n",
    "$x_i^{2k-1} = - u_i^{k}$\n",
    "for \n",
    "$k = 1, \\dots, d-1$."
   ]
  },
  {
   "cell_type": "markdown",
   "id": "463b73c5",
   "metadata": {},
   "source": [
    "#### 2) Choose $I$\n",
    "\n",
    "We choose\n",
    "$I$\n",
    "as the \n",
    "[adjusted mutual information](https://en.wikipedia.org/wiki/Adjusted_mutual_information),\n",
    "an implementation of which is readily available from \n",
    "[sklearn.metrics.adjusted_mutual_info_score](https://scikit-learn.org/stable/modules/generated/sklearn.metrics.adjusted_mutual_info_score.html)."
   ]
  },
  {
   "cell_type": "code",
   "execution_count": null,
   "id": "0a912d2c",
   "metadata": {},
   "outputs": [],
   "source": [
    "%%time \n",
    "selected_features = search.select_features(\n",
    "    x, y, \n",
    "    num_haar_samples=3,\n",
    ")"
   ]
  },
  {
   "cell_type": "code",
   "execution_count": null,
   "id": "6b5a45d0",
   "metadata": {},
   "outputs": [],
   "source": [
    "print(f'expected_features:\\n{sorted(expected_features)}')\n",
    "print(f'selected_features:\\n{sorted(selected_features)}')"
   ]
  },
  {
   "cell_type": "markdown",
   "id": "46931582",
   "metadata": {},
   "source": [
    "### B. Selection using single-marginal mutual information"
   ]
  },
  {
   "cell_type": "markdown",
   "id": "b40d8dc1",
   "metadata": {},
   "source": [
    "For random variables\n",
    "$X$, $Y$,\n",
    "let \n",
    "$I(X, Y) \\geq 0$\n",
    "be a non-negative measure of probabilitstic dependence,\n",
    "such that \n",
    "$I(X, Y) = 0$ \n",
    "if and only if \n",
    "$X$ and $Y$ are independent.\n",
    "Moreover, \n",
    "we assume that,\n",
    "given three random varibales \n",
    "$X$, $Y$, $Z$,\n",
    "we can informally interpret the inequality\n",
    "$I(X,Y) \\leq I(X,Z)$\n",
    "as stating that \n",
    "$X$ is \"more dependent\" on $Z$ than it is on $Y$."
   ]
  },
  {
   "cell_type": "markdown",
   "id": "18de79ef",
   "metadata": {},
   "source": [
    "Let \n",
    "$X_i$, $i=1, \\dots, d$\n",
    "be the $d$ features to select from, \n",
    "and let $Y$ be the target.\n",
    "\n",
    "Given a sample size $N$,\n",
    "let \n",
    "$$\n",
    "x_i = \\lbrace x^{n}_i: n=1, \\dots, N\\rbrace\n",
    "$$\n",
    "be samples from $X_i$,\n",
    "and \n",
    "$$\n",
    "y = \\lbrace y^{n}: n=1, \\dots, N\\rbrace\n",
    "$$\n",
    "be samples from $Y$.\n",
    "\n",
    "For indices $i_1, i_2, \\dots, i_k$, we let \n",
    "$I(x_{i_1}, \\dots, x_{i_k}, y)$\n",
    "be the measure of probabilistic dependence \n",
    "between\n",
    "the empirical vector \n",
    "$(x_{i_1}, \\dots, x_{i_p})$\n",
    "sampled from\n",
    "$(X_{i_1}, \\dots, X_{i_p})$\n",
    "and \n",
    "the empirical target\n",
    "$y$\n",
    "sampled from $Y$."
   ]
  },
  {
   "cell_type": "markdown",
   "id": "90ab8bc2",
   "metadata": {},
   "source": [
    "We compute \n",
    "$I(x_i, y)$\n",
    "for\n",
    "$i = 1, \\dots, d$.\n",
    "We construct the vector\n",
    "$$\n",
    "a_1, \\dots, a_d\n",
    "$$\n",
    "where\n",
    "$$\n",
    "a_i = \\frac{I(x_i, y)} {\\hat{I}}\n",
    "$$\n",
    "where\n",
    "$\\hat{I} = \\max_{i}I(x_i, y)$.\n",
    "\n",
    "Given a threshold of negligibility $\\epsilon\\geq 0$,\n",
    "this procedure seleccts feature $i$ if and only if $a_i > \\epsilon$.\n",
    "\n",
    "We choose $I$ as the mutual information as implemented in\n",
    "[sklearn.feature_selection.mutual_info_classif](https://scikit-learn.org/stable/modules/generated/sklearn.feature_selection.mutual_info_classif.html)."
   ]
  },
  {
   "cell_type": "code",
   "execution_count": null,
   "id": "b280fb94",
   "metadata": {},
   "outputs": [],
   "source": [
    "threhsold = .04"
   ]
  },
  {
   "cell_type": "code",
   "execution_count": null,
   "id": "09f1548e",
   "metadata": {},
   "outputs": [],
   "source": [
    "%%time\n",
    "mis = mutual_info_classif(x, y, discrete_features=True)\n",
    "mis /= np.amax(mis)\n",
    "mi_selection, = np.where(mis> threhsold)"
   ]
  },
  {
   "cell_type": "code",
   "execution_count": null,
   "id": "e76734c3",
   "metadata": {},
   "outputs": [],
   "source": [
    "print(f'expected_features:\\n{sorted(expected_features)}')\n",
    "print(f'Single marginal Mi selection:\\n{sorted(mi_selection)}')"
   ]
  },
  {
   "cell_type": "code",
   "execution_count": null,
   "id": "2860f1ef",
   "metadata": {},
   "outputs": [],
   "source": [
    "sns.barplot(x=mi_selection, y=mis[mi_selection])"
   ]
  },
  {
   "cell_type": "markdown",
   "id": "6776b78e",
   "metadata": {},
   "source": [
    "### C. Selection with Boruta"
   ]
  },
  {
   "cell_type": "code",
   "execution_count": null,
   "id": "511abe4a",
   "metadata": {},
   "outputs": [],
   "source": [
    "from arfs.feature_selection import allrelevant\n",
    "from arfs.feature_selection.allrelevant import Leshy\n",
    "from sklearn.ensemble import RandomForestClassifier"
   ]
  },
  {
   "cell_type": "code",
   "execution_count": null,
   "id": "a02901e1",
   "metadata": {},
   "outputs": [],
   "source": [
    "n_estimators = 'auto'\n",
    "perc = 95\n",
    "alpha = 0.05\n",
    "importance = \"shap\"\n",
    "two_step = True\n",
    "max_iter = 100\n",
    "random_state = None\n",
    "verbose = 0\n",
    "keep_weak = False"
   ]
  },
  {
   "cell_type": "code",
   "execution_count": null,
   "id": "00081320",
   "metadata": {},
   "outputs": [],
   "source": [
    "xdf = pd.DataFrame(x, columns = [f'f{i}' for i in range(d)])\n",
    "yser = pd.Series(y, name='y')"
   ]
  },
  {
   "cell_type": "code",
   "execution_count": null,
   "id": "3f456422",
   "metadata": {},
   "outputs": [],
   "source": [
    "rf = RandomForestClassifier(n_jobs=-1, max_depth=8)"
   ]
  },
  {
   "cell_type": "code",
   "execution_count": null,
   "id": "a36700a6",
   "metadata": {},
   "outputs": [],
   "source": [
    "leshy = Leshy(\n",
    "    rf,\n",
    "    n_estimators=n_estimators,\n",
    "    perc=perc,\n",
    "    alpha=alpha,\n",
    "    importance=importance,\n",
    "    two_step=two_step,\n",
    "    max_iter=max_iter,\n",
    "    random_state=random_state,\n",
    "    verbose=verbose,\n",
    "    keep_weak=keep_weak,\n",
    ")"
   ]
  },
  {
   "cell_type": "code",
   "execution_count": null,
   "id": "9613c874",
   "metadata": {},
   "outputs": [],
   "source": [
    "%%time\n",
    "leshy.fit(xdf, yser)"
   ]
  },
  {
   "cell_type": "code",
   "execution_count": null,
   "id": "4fa81d35",
   "metadata": {},
   "outputs": [],
   "source": [
    "leshy_selection = [int(col.replace('f', '')) for col in leshy.selected_features_]"
   ]
  },
  {
   "cell_type": "code",
   "execution_count": null,
   "id": "c9056e56",
   "metadata": {},
   "outputs": [],
   "source": [
    "print(f'Expected features: {sorted(expected_features)}')\n",
    "print(f'Boruta selection: {sorted(leshy_selection)}')"
   ]
  }
 ],
 "metadata": {
  "kernelspec": {
   "display_name": "hiselstudy",
   "language": "python",
   "name": "hiselstudy"
  },
  "language_info": {
   "codemirror_mode": {
    "name": "ipython",
    "version": 3
   },
   "file_extension": ".py",
   "mimetype": "text/x-python",
   "name": "python",
   "nbconvert_exporter": "python",
   "pygments_lexer": "ipython3",
   "version": "3.9.16"
  }
 },
 "nbformat": 4,
 "nbformat_minor": 5
}
