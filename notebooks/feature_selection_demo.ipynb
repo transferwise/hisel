{
 "cells": [
  {
   "cell_type": "code",
   "execution_count": null,
   "id": "ceebafeb",
   "metadata": {},
   "outputs": [],
   "source": [
    "import numpy as np\n",
    "import pandas as pd\n",
    "from scipy.stats import special_ortho_group\n",
    "import matplotlib.pyplot as plt\n",
    "\n",
    "import hisel"
   ]
  },
  {
   "cell_type": "code",
   "execution_count": null,
   "id": "2d9d7f3b",
   "metadata": {},
   "outputs": [],
   "source": [
    "n = 5000\n",
    "n_cat = 10\n",
    "n_cont = 30\n",
    "n_relcat = 2\n",
    "n_relcont = 8\n",
    "dim_y = 1"
   ]
  },
  {
   "cell_type": "code",
   "execution_count": null,
   "id": "0f9c7614",
   "metadata": {},
   "outputs": [],
   "source": [
    "ms = np.random.randint(low=5, high=8, size=n_cat)\n",
    "cats = [np.random.randint(m, size=(n, 1)) for m in ms]\n",
    "cat = np.concatenate(cats, axis=1)\n",
    "cat_ = np.expand_dims(cat, axis=2)\n",
    "catdf = pd.DataFrame(cat, columns = [f'cat{n}' for n in range(n_cat)])"
   ]
  },
  {
   "cell_type": "code",
   "execution_count": null,
   "id": "c3d91b1e",
   "metadata": {},
   "outputs": [],
   "source": [
    "acat = np.random.permutation(\n",
    "    np.concatenate((np.diag(np.random.choice([-1, 1], size=n_relcat)), \n",
    "                    np.zeros(shape=(n_relcat, n_cat - n_relcat), dtype=int)),\n",
    "                   axis=1).T).T\n",
    "tcat = np.expand_dims(np.ones(shape=(1, n_relcat), dtype=int) @ acat, axis=0)\n",
    "relevant_cats = np.sort(np.argsort(np.sum(np.abs(acat), axis=0))[::-1][:n_relcat])"
   ]
  },
  {
   "cell_type": "code",
   "execution_count": null,
   "id": "90e4492d",
   "metadata": {},
   "outputs": [],
   "source": [
    "cont = np.random.uniform(low=-1, high=1, size=(n, n_cont))\n",
    "cont_ = np.expand_dims(cont, axis=2)\n",
    "contdf = pd.DataFrame(cont, columns = [f'cont{n}' for n in range(n_cont)])"
   ]
  },
  {
   "cell_type": "code",
   "execution_count": null,
   "id": "92650390",
   "metadata": {},
   "outputs": [],
   "source": [
    "xdf = pd.merge(catdf, contdf, left_index=True, right_index=True)"
   ]
  },
  {
   "cell_type": "code",
   "execution_count": null,
   "id": "cbe310f9",
   "metadata": {},
   "outputs": [],
   "source": [
    "u1 = special_ortho_group.rvs(n_relcont)\n",
    "u2 = special_ortho_group.rvs(n_relcont)\n",
    "acont = np.random.permutation(\n",
    "    np.concatenate((np.eye(n_relcont), np.zeros((n_relcont, n_cont - n_relcont))), axis=1).T).T\n",
    "ct1 = np.expand_dims(u1 @ acont, axis=0)\n",
    "ct2 = np.expand_dims(u2 @ acont, axis=0)\n",
    "relevant_conts = n_cat + np.sort(np.argsort(np.sum(np.abs(acont), axis=0))[::-1][:n_relcont])"
   ]
  },
  {
   "cell_type": "code",
   "execution_count": null,
   "id": "e4d6b8a7",
   "metadata": {},
   "outputs": [],
   "source": [
    "all_relevant = np.sort(np.concatenate((relevant_cats, relevant_conts)))\n",
    "relevant_cat_features = sorted(xdf.iloc[:, relevant_cats].columns.tolist())\n",
    "relevant_cont_features = sorted(xdf.iloc[:, relevant_conts].columns.tolist())\n",
    "relevant_features = sorted(xdf.iloc[:, all_relevant].columns.tolist())"
   ]
  },
  {
   "cell_type": "code",
   "execution_count": null,
   "id": "cc996cd3",
   "metadata": {},
   "outputs": [],
   "source": [
    "t = np.random.uniform(low=-1, high=1, size=(1, dim_y, n_relcont))"
   ]
  },
  {
   "cell_type": "code",
   "execution_count": null,
   "id": "74d8b7e7",
   "metadata": {},
   "outputs": [],
   "source": [
    "chooser = tcat @ cat_\n",
    "q = np.quantile(chooser, .5)\n",
    "y = np.squeeze(t @ (\n",
    "    (chooser > q) * ct1 @ cont_ +\n",
    "    (chooser <= q) * ct2 @ cont_\n",
    "))"
   ]
  },
  {
   "cell_type": "code",
   "execution_count": null,
   "id": "d515eca3",
   "metadata": {},
   "outputs": [],
   "source": [
    "ydf = pd.DataFrame(y, columns = [f'y{n}' for n in range(dim_y)])"
   ]
  },
  {
   "cell_type": "markdown",
   "id": "8d15d80c",
   "metadata": {},
   "source": [
    "## KSG selection"
   ]
  },
  {
   "cell_type": "code",
   "execution_count": null,
   "id": "d38785f7",
   "metadata": {},
   "outputs": [],
   "source": [
    "ksgfeatures, ksgmis = hisel.select.ksgmi(xdf, ydf, threshold=.0001)"
   ]
  },
  {
   "cell_type": "code",
   "execution_count": null,
   "id": "3b592457",
   "metadata": {},
   "outputs": [],
   "source": [
    "expected = sorted(list(relevant_features))\n",
    "selected = sorted(list(ksgfeatures))\n",
    "leftout = sorted(list(set(expected).difference(set(selected))))\n",
    "print(f'Expected features:\\n{expected}')\n",
    "print(f'Selected features:\\n{selected}')\n",
    "print(f'Left-out features:\\n{leftout}')"
   ]
  },
  {
   "cell_type": "markdown",
   "id": "bb293ae3",
   "metadata": {},
   "source": [
    "## Selection"
   ]
  },
  {
   "cell_type": "code",
   "execution_count": null,
   "id": "785baa63",
   "metadata": {},
   "outputs": [],
   "source": [
    "categorical_search_params = hisel.feature_selection.SearchParameters(\n",
    "    num_permutations=20,\n",
    "    im_ratio=.01,\n",
    "    max_iter=1,\n",
    "    parallel=True,\n",
    "    random_state=None,\n",
    ")"
   ]
  },
  {
   "cell_type": "code",
   "execution_count": null,
   "id": "c044adaa",
   "metadata": {},
   "outputs": [],
   "source": [
    "hsiclasso_params = hisel.feature_selection.HSICLassoParameters(\n",
    "    hsic_threshold=.01,\n",
    "    batch_size=5000,\n",
    "    minibatch_size=500,\n",
    "    number_of_epochs=4,\n",
    "    use_preselection=False,\n",
    "    device=None\n",
    ")"
   ]
  },
  {
   "cell_type": "code",
   "execution_count": null,
   "id": "3ac19521",
   "metadata": {},
   "outputs": [],
   "source": [
    "selection = hisel.feature_selection.select_features(\n",
    "    xdf, \n",
    "    ydf,\n",
    "    hsiclasso_params,\n",
    "    categorical_search_params\n",
    ")\n",
    "hsic_selection = selection.continuous_lasso_selection\n",
    "cat_selection = selection.categorical_search_selection"
   ]
  },
  {
   "cell_type": "code",
   "execution_count": null,
   "id": "b944b1c4",
   "metadata": {},
   "outputs": [],
   "source": [
    "selected_cat_features = sorted(cat_selection.features)\n",
    "selected_cont_features = sorted(hsic_selection.features)\n",
    "selected_features = sorted(selection.selected_features)"
   ]
  },
  {
   "cell_type": "code",
   "execution_count": null,
   "id": "61c5b7b2",
   "metadata": {},
   "outputs": [],
   "source": [
    "leftout_cat = sorted(list(\n",
    "    set(relevant_cat_features).difference(set(selected_cat_features))\n",
    "))\n",
    "print(f'Relevant cat features:\\n{relevant_cat_features}')\n",
    "print(f'Selected cat features:\\n{selected_cat_features}')\n",
    "print(f'Left-out cat features:\\n{leftout_cat}')"
   ]
  },
  {
   "cell_type": "code",
   "execution_count": null,
   "id": "c8089fa2",
   "metadata": {},
   "outputs": [],
   "source": [
    "leftout_cont = sorted(list(\n",
    "    set(relevant_cont_features).difference(set(selected_cont_features))\n",
    "))\n",
    "print(f'Relevant cont features:\\n{relevant_cont_features}')\n",
    "print(f'Selected cont features:\\n{selected_cont_features}')\n",
    "print(f'Left-out cont features:\\n{leftout_cont}')"
   ]
  },
  {
   "cell_type": "code",
   "execution_count": null,
   "id": "663973d1",
   "metadata": {},
   "outputs": [],
   "source": [
    "print(f'All relevant features:\\n{relevant_features}')\n",
    "print(f'Selected features:\\n{selected_features}')"
   ]
  },
  {
   "cell_type": "markdown",
   "id": "93988107",
   "metadata": {},
   "source": [
    "You can explore how the selection threshold affects the choice of the continuous features"
   ]
  },
  {
   "cell_type": "code",
   "execution_count": null,
   "id": "7e1df0ea",
   "metadata": {},
   "outputs": [],
   "source": [
    "hsic_selection.select_from_lasso_path(threshold=.025)"
   ]
  },
  {
   "cell_type": "markdown",
   "id": "73d4ad7d",
   "metadata": {},
   "source": [
    "You can visualise the regularisation curve used to select the continuous features"
   ]
  },
  {
   "cell_type": "code",
   "execution_count": null,
   "id": "3ef1558f",
   "metadata": {},
   "outputs": [],
   "source": [
    "curve = hsic_selection.regcurve\n",
    "plt.plot(np.arange(1, 1+len(curve)), curve)"
   ]
  },
  {
   "cell_type": "code",
   "execution_count": null,
   "id": "33c58011",
   "metadata": {},
   "outputs": [],
   "source": []
  }
 ],
 "metadata": {
  "kernelspec": {
   "display_name": "hiseltest",
   "language": "python",
   "name": "hiseltest"
  },
  "language_info": {
   "codemirror_mode": {
    "name": "ipython",
    "version": 3
   },
   "file_extension": ".py",
   "mimetype": "text/x-python",
   "name": "python",
   "nbconvert_exporter": "python",
   "pygments_lexer": "ipython3",
   "version": "3.9.16"
  }
 },
 "nbformat": 4,
 "nbformat_minor": 5
}
