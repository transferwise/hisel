{
 "cells": [
  {
   "cell_type": "code",
   "execution_count": null,
   "id": "fd61a5c3",
   "metadata": {},
   "outputs": [],
   "source": [
    "import datetime\n",
    "import numpy as np\n",
    "import matplotlib.pyplot as plt\n",
    "import seaborn as sns\n",
    "from scipy.stats import special_ortho_group\n",
    "from hisel.select import HSICSelector as Selector"
   ]
  },
  {
   "cell_type": "markdown",
   "id": "c2559eae",
   "metadata": {},
   "source": [
    "# Sin transform "
   ]
  },
  {
   "cell_type": "code",
   "execution_count": null,
   "id": "4b761492",
   "metadata": {},
   "outputs": [],
   "source": [
    "dim_x = 10\n",
    "dim_y = 1\n",
    "dim_z = 1\n",
    "\n",
    "batch_size = int(1e+4)\n",
    "minibatch_size = 250\n",
    "num_of_samples = int(1e+4)\n",
    "number_of_epochs = 3"
   ]
  },
  {
   "cell_type": "code",
   "execution_count": null,
   "id": "0d4f2545",
   "metadata": {},
   "outputs": [],
   "source": [
    "transform_tilde = np.eye(dim_z)[:dim_y]\n",
    "A = np.random.permutation(np.concatenate((np.eye(dim_z), np.zeros((dim_z, dim_x - dim_z))), axis=1).T).T\n",
    "transform = transform_tilde @ A"
   ]
  },
  {
   "cell_type": "code",
   "execution_count": null,
   "id": "bde18951",
   "metadata": {},
   "outputs": [],
   "source": [
    "x_samples = np.random.uniform(size=(num_of_samples, dim_x))\n",
    "tt = np.repeat(np.expand_dims(transform, axis=0), repeats=num_of_samples, axis=0)\n",
    "prey = (tt @ np.expand_dims(x_samples, axis=2))[:, :, 0]\n",
    "y_samples = np.random.normal(0, 3e-1, size=prey.shape) \n",
    "y_samples[:, 0] += np.sin(2*np.pi*prey[:, 0])"
   ]
  },
  {
   "cell_type": "markdown",
   "id": "1d0b9a75",
   "metadata": {},
   "source": [
    "### Viz of relations between target and features"
   ]
  },
  {
   "cell_type": "markdown",
   "id": "9f2e819f",
   "metadata": {},
   "source": [
    "Relation between $y$ and the correct feature"
   ]
  },
  {
   "cell_type": "code",
   "execution_count": null,
   "id": "9fc8c15a",
   "metadata": {},
   "outputs": [],
   "source": [
    "expected_features = np.argsort(np.sum(A, axis=0))[::-1][:dim_z]\n",
    "sns.scatterplot(x=x_samples[:, expected_features[0]], y=y_samples[:, 0])"
   ]
  },
  {
   "cell_type": "markdown",
   "id": "f4305414",
   "metadata": {},
   "source": [
    "Relation between $y$ and a wrong feature"
   ]
  },
  {
   "cell_type": "code",
   "execution_count": null,
   "id": "f0661e9a",
   "metadata": {},
   "outputs": [],
   "source": [
    "nonrelevant = set(range(dim_x)).difference(set(expected_features))\n",
    "featureidx = np.random.choice(list(nonrelevant))\n",
    "sns.scatterplot(x=x_samples[:, featureidx], y=y_samples[:, 0])"
   ]
  },
  {
   "cell_type": "code",
   "execution_count": null,
   "id": "4c8caf8a",
   "metadata": {},
   "outputs": [],
   "source": [
    "projector = Selector(x_samples, y_samples)"
   ]
  },
  {
   "cell_type": "code",
   "execution_count": null,
   "id": "7e198c95",
   "metadata": {},
   "outputs": [],
   "source": [
    "curve = projector.regularization_curve(\n",
    "    batch_size=batch_size,\n",
    "    minibatch_size=minibatch_size,\n",
    "    number_of_epochs=number_of_epochs\n",
    ")\n",
    "paths = projector.lasso_path()"
   ]
  },
  {
   "cell_type": "markdown",
   "id": "6551e522",
   "metadata": {},
   "source": [
    "#### Sorted features by decreasing importance"
   ]
  },
  {
   "cell_type": "code",
   "execution_count": null,
   "id": "a503fa32",
   "metadata": {},
   "outputs": [],
   "source": [
    "print(f'Sorted features by decreasing importance: {projector.ordered_features}')"
   ]
  },
  {
   "cell_type": "markdown",
   "id": "3b6679bf",
   "metadata": {},
   "source": [
    "### Test selection"
   ]
  },
  {
   "cell_type": "code",
   "execution_count": null,
   "id": "65f990cd",
   "metadata": {},
   "outputs": [],
   "source": [
    "expected_features = np.argsort(np.sum(A, axis=0))[::-1][:dim_z]\n",
    "noise_features = set(range(dim_x)).difference(set(expected_features))\n",
    "selected_features = np.argsort(paths.iloc[-1, :])[::-1][:dim_z]\n",
    "print(f'Expected features: {sorted(list(expected_features))}')\n",
    "print(f'Selected features: {sorted(list(selected_features))}')"
   ]
  },
  {
   "cell_type": "markdown",
   "id": "a8bf88af",
   "metadata": {},
   "source": [
    "## Comparison with sklearn"
   ]
  },
  {
   "cell_type": "code",
   "execution_count": null,
   "id": "332ba768",
   "metadata": {},
   "outputs": [],
   "source": [
    "from sklearn.feature_selection import f_regression, mutual_info_regression"
   ]
  },
  {
   "cell_type": "code",
   "execution_count": null,
   "id": "0b76ba28",
   "metadata": {},
   "outputs": [],
   "source": [
    "fstats, _ = f_regression(x_samples, np.linalg.norm(y_samples, axis=1))\n",
    "fstats /= np.max(fstats)\n",
    "f_selection = np.argmax(fstats)\n",
    "print(f'f_selection: {f_selection}')"
   ]
  },
  {
   "cell_type": "code",
   "execution_count": null,
   "id": "ceec08f5",
   "metadata": {},
   "outputs": [],
   "source": [
    "mi = mutual_info_regression(x_samples, np.linalg.norm(y_samples, axis=1))\n",
    "mi /= np.max(mi)\n",
    "mi_selection = np.argmax(mi)\n",
    "print(f'mi_selection: {mi_selection}')"
   ]
  },
  {
   "cell_type": "markdown",
   "id": "7771b83e",
   "metadata": {},
   "source": [
    "# Linear and non-linear  transformation in high dimension"
   ]
  },
  {
   "cell_type": "code",
   "execution_count": null,
   "id": "10edf512",
   "metadata": {},
   "outputs": [],
   "source": [
    "dim_x = 20\n",
    "dim_y = 3\n",
    "dim_z = 5\n",
    "\n",
    "batch_size = int(1e+4)\n",
    "minibatch_size = 250\n",
    "num_of_samples = int(1e+4)\n",
    "number_of_epochs = 3"
   ]
  },
  {
   "cell_type": "code",
   "execution_count": null,
   "id": "9ac11521",
   "metadata": {},
   "outputs": [],
   "source": [
    "transform_tilde = special_ortho_group.rvs(dim_z)[:dim_y]\n",
    "A = np.random.permutation(np.concatenate((np.eye(dim_z), np.zeros((dim_z, dim_x - dim_z))), axis=1).T).T\n",
    "transform = transform_tilde @ A"
   ]
  },
  {
   "cell_type": "code",
   "execution_count": null,
   "id": "15eb3b4c",
   "metadata": {},
   "outputs": [],
   "source": [
    "x_samples = np.random.uniform(size=(num_of_samples, dim_x))\n",
    "tt = np.repeat(np.expand_dims(transform, axis=0), repeats=num_of_samples, axis=0)\n",
    "prey = (tt @ np.expand_dims(x_samples, axis=2))[:, :, 0]\n",
    "y_samples = np.random.normal(0, 1e-2, size=prey.shape)  # np.zeros_like(prey)\n",
    "y_samples[:, 0] = np.sin(2*np.pi*prey[:, 0])\n",
    "y_samples[:, 1] = np.cos(2*np.pi*prey[:, 1])\n",
    "y_samples[:, 2] = np.sin(2*np.pi*prey[:, 2])"
   ]
  },
  {
   "cell_type": "markdown",
   "id": "742b8c90",
   "metadata": {},
   "source": [
    "### Viz of relations between target and features"
   ]
  },
  {
   "cell_type": "markdown",
   "id": "286a7886",
   "metadata": {},
   "source": [
    "Becasue of the initial rotation, visual inspection of the relation between features and target does not give insights on which features should be selected"
   ]
  },
  {
   "cell_type": "markdown",
   "id": "dbc33430",
   "metadata": {},
   "source": [
    "Relation between $y$ and a correct feature"
   ]
  },
  {
   "cell_type": "code",
   "execution_count": null,
   "id": "cbb24917",
   "metadata": {},
   "outputs": [],
   "source": [
    "expected_features = np.argsort(np.sum(A, axis=0))[::-1][:dim_z]\n",
    "sns.scatterplot(x=x_samples[:, expected_features[0]], y=y_samples[:, 0])"
   ]
  },
  {
   "cell_type": "markdown",
   "id": "dfad4947",
   "metadata": {},
   "source": [
    "Relation between $y$ and a wrong feature"
   ]
  },
  {
   "cell_type": "code",
   "execution_count": null,
   "id": "12f86383",
   "metadata": {},
   "outputs": [],
   "source": [
    "nonrelevant = set(range(dim_x)).difference(set(expected_features))\n",
    "featureidx = np.random.choice(list(nonrelevant))\n",
    "sns.scatterplot(x=x_samples[:, featureidx], y=y_samples[:, 0])"
   ]
  },
  {
   "cell_type": "code",
   "execution_count": null,
   "id": "49701075",
   "metadata": {},
   "outputs": [],
   "source": [
    "projector = Selector(x_samples, y_samples)"
   ]
  },
  {
   "cell_type": "code",
   "execution_count": null,
   "id": "1af2d5e4",
   "metadata": {},
   "outputs": [],
   "source": [
    "curve = projector.regularization_curve(\n",
    "    batch_size=batch_size,\n",
    "    minibatch_size=minibatch_size,\n",
    "    number_of_epochs=number_of_epochs\n",
    ")"
   ]
  },
  {
   "cell_type": "code",
   "execution_count": null,
   "id": "c96e444f",
   "metadata": {},
   "outputs": [],
   "source": [
    "paths = projector.lasso_path()"
   ]
  },
  {
   "cell_type": "markdown",
   "id": "bd1a2150",
   "metadata": {},
   "source": [
    "#### Sorted features by decreasing importance"
   ]
  },
  {
   "cell_type": "code",
   "execution_count": null,
   "id": "59656d81",
   "metadata": {},
   "outputs": [],
   "source": [
    "print(f'Sorted features by decreasing importance: {projector.ordered_features}')"
   ]
  },
  {
   "cell_type": "markdown",
   "id": "85ff9d3c",
   "metadata": {},
   "source": [
    "### Test selection"
   ]
  },
  {
   "cell_type": "code",
   "execution_count": null,
   "id": "55d268d9",
   "metadata": {},
   "outputs": [],
   "source": [
    "expected_features = np.argsort(np.sum(A, axis=0))[::-1][:dim_z]\n",
    "noise_features = set(range(dim_x)).difference(set(expected_features))\n",
    "selected_features = np.argsort(paths.iloc[-1, :])[::-1][:dim_z]\n",
    "print(f'Expected features: {sorted(list(expected_features))}')\n",
    "print(f'Selected features: {sorted(list(selected_features))}')"
   ]
  },
  {
   "cell_type": "markdown",
   "id": "87b7675f",
   "metadata": {},
   "source": [
    "## Comparison with sklearn"
   ]
  },
  {
   "cell_type": "code",
   "execution_count": null,
   "id": "30f6f83b",
   "metadata": {},
   "outputs": [],
   "source": [
    "from sklearn.feature_selection import f_regression, mutual_info_regression"
   ]
  },
  {
   "cell_type": "code",
   "execution_count": null,
   "id": "24df734c",
   "metadata": {},
   "outputs": [],
   "source": [
    "fstats, _ = f_regression(x_samples, np.linalg.norm(y_samples, axis=1))\n",
    "fstats /= np.max(fstats)\n",
    "f_selection = np.argsort(fstats)[::-1][:dim_z]\n",
    "print(f'f_selection: {sorted(f_selection)}')"
   ]
  },
  {
   "cell_type": "code",
   "execution_count": null,
   "id": "d84477ee",
   "metadata": {},
   "outputs": [],
   "source": [
    "mi = mutual_info_regression(x_samples, np.linalg.norm(y_samples, axis=1))\n",
    "mi /= np.max(mi)\n",
    "mi_selection = np.argsort(mi)[::-1][:dim_z]\n",
    "print(f'mutual information: {mi[mi_selection]}')\n",
    "print(f'mi_selection: {sorted(mi_selection)}')"
   ]
  },
  {
   "cell_type": "markdown",
   "id": "4e5280cf",
   "metadata": {},
   "source": [
    "## Regularisation curve"
   ]
  },
  {
   "cell_type": "markdown",
   "id": "b578c3c6",
   "metadata": {},
   "source": [
    "#### Cumulative beta"
   ]
  },
  {
   "cell_type": "code",
   "execution_count": null,
   "id": "71c90034",
   "metadata": {},
   "outputs": [],
   "source": [
    "plt.plot(np.arange(1, 1+len(curve)), curve)"
   ]
  },
  {
   "cell_type": "markdown",
   "id": "64d50369",
   "metadata": {},
   "source": [
    "#### Absolute beta"
   ]
  },
  {
   "cell_type": "code",
   "execution_count": null,
   "id": "d4ae8aab",
   "metadata": {},
   "outputs": [],
   "source": [
    "plt.plot(np.arange(1, len(curve)), np.abs(np.diff(curve)))"
   ]
  },
  {
   "cell_type": "markdown",
   "id": "791889d0",
   "metadata": {},
   "source": [
    "## Lasso paths"
   ]
  },
  {
   "cell_type": "code",
   "execution_count": null,
   "id": "df408f64",
   "metadata": {},
   "outputs": [],
   "source": [
    "paths.plot(figsize=(10, 5))"
   ]
  }
 ],
 "metadata": {
  "kernelspec": {
   "display_name": "hiselc",
   "language": "python",
   "name": "hiselc"
  },
  "language_info": {
   "codemirror_mode": {
    "name": "ipython",
    "version": 3
   },
   "file_extension": ".py",
   "mimetype": "text/x-python",
   "name": "python",
   "nbconvert_exporter": "python",
   "pygments_lexer": "ipython3",
   "version": "3.9.16"
  }
 },
 "nbformat": 4,
 "nbformat_minor": 5
}
