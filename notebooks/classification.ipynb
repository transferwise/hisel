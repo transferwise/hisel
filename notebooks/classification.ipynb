{
 "cells": [
  {
   "cell_type": "code",
   "execution_count": null,
   "id": "c2e9a5ba",
   "metadata": {},
   "outputs": [],
   "source": [
    "import numpy as np\n",
    "import matplotlib.pyplot as plt\n",
    "from scipy.stats import special_ortho_group\n",
    "from hisel.select import Selector, FeatureType"
   ]
  },
  {
   "cell_type": "code",
   "execution_count": null,
   "id": "eef94fd4",
   "metadata": {},
   "outputs": [],
   "source": [
    "d = 50  # total number of features to select from\n",
    "n = 10000 # sample size\n",
    "n_features = 8 # relevant feature for the classification"
   ]
  },
  {
   "cell_type": "markdown",
   "id": "d427fdec",
   "metadata": {},
   "source": [
    "### Generate synthetic data"
   ]
  },
  {
   "cell_type": "code",
   "execution_count": null,
   "id": "0446e6dd",
   "metadata": {},
   "outputs": [],
   "source": [
    "x = np.random.uniform(size=(n, d))\n",
    "features = list(np.random.choice(d, replace=False, size=n_features))\n",
    "z = x[:, features]\n",
    "tt = np.expand_dims(\n",
    "    special_ortho_group.rvs(n_features),\n",
    "    axis=0\n",
    ")\n",
    "zz = np.expand_dims(z, axis=2)\n",
    "u = (tt @ zz)[:, :, 0]\n",
    "y = np.zeros(shape=(n, 1), dtype=int)\n",
    "for i in range(1, n_features):\n",
    "    y += np.asarray(u[:, [i-1]] > u[:, [i]], dtype=int)"
   ]
  },
  {
   "cell_type": "code",
   "execution_count": null,
   "id": "c5af6a60",
   "metadata": {},
   "outputs": [],
   "source": [
    "selector = Selector(x, y, xfeattype=FeatureType.CONT, yfeattype=FeatureType.DISCR)"
   ]
  },
  {
   "cell_type": "markdown",
   "id": "cfa821c2",
   "metadata": {},
   "source": [
    "### Run selection algorithm"
   ]
  },
  {
   "cell_type": "code",
   "execution_count": null,
   "id": "d93bbfaa",
   "metadata": {},
   "outputs": [],
   "source": [
    "batch_size = n // 10\n",
    "minibatch_size = 200\n",
    "number_of_epochs = 3\n",
    "threshold = .075\n",
    "device = None # run on CPU"
   ]
  },
  {
   "cell_type": "markdown",
   "id": "03d1ce01",
   "metadata": {},
   "source": [
    "#### Selection: We ask for the `n_features` most relevant features for the classification task"
   ]
  },
  {
   "cell_type": "code",
   "execution_count": null,
   "id": "ecc518d9",
   "metadata": {},
   "outputs": [],
   "source": [
    "selection = selector.select(\n",
    "    number_of_features=n_features, \n",
    "    batch_size=batch_size,\n",
    "    minibatch_size=minibatch_size,\n",
    "    number_of_epochs=number_of_epochs,\n",
    "    device=device,\n",
    ")"
   ]
  },
  {
   "cell_type": "markdown",
   "id": "9d1de93f",
   "metadata": {},
   "source": [
    "#### Auto-selection: we do not prescribe the number of features to select"
   ]
  },
  {
   "cell_type": "code",
   "execution_count": null,
   "id": "898a5572",
   "metadata": {},
   "outputs": [],
   "source": [
    "autoselection = selector.autoselect(\n",
    "    batch_size=batch_size,\n",
    "    minibatch_size=minibatch_size,\n",
    "    number_of_epochs=number_of_epochs,\n",
    "    threshold=threshold,\n",
    "    device=device,\n",
    ")"
   ]
  },
  {
   "cell_type": "code",
   "execution_count": null,
   "id": "f93f2432",
   "metadata": {},
   "outputs": [],
   "source": [
    "print(f'Expected features:\\n{sorted(features)}')\n",
    "print(f'Selected features:\\n{sorted(selection)}')\n",
    "print(f'Auto-selected features:\\n{sorted(autoselection)}')"
   ]
  },
  {
   "cell_type": "markdown",
   "id": "78764ab5",
   "metadata": {},
   "source": [
    "#### Visualise importance curve as more features are selected"
   ]
  },
  {
   "cell_type": "code",
   "execution_count": null,
   "id": "4ebc555f",
   "metadata": {},
   "outputs": [],
   "source": [
    "paths = selector.lasso_path()\n",
    "curve = np.cumsum(np.sort(paths.iloc[-1, :])[::-1])\n",
    "plt.plot(np.arange(1, 1+len(curve)), curve)"
   ]
  },
  {
   "cell_type": "markdown",
   "id": "32cc465b",
   "metadata": {},
   "source": [
    "#### Visualise lasso paths of relevant features"
   ]
  },
  {
   "cell_type": "code",
   "execution_count": null,
   "id": "dcdfd96e",
   "metadata": {},
   "outputs": [],
   "source": [
    "paths = selector.lasso_path()\n",
    "paths.iloc[:, features].plot(figsize=(16, 10))"
   ]
  }
 ],
 "metadata": {
  "kernelspec": {
   "display_name": "hiselc",
   "language": "python",
   "name": "hiselc"
  },
  "language_info": {
   "codemirror_mode": {
    "name": "ipython",
    "version": 3
   },
   "file_extension": ".py",
   "mimetype": "text/x-python",
   "name": "python",
   "nbconvert_exporter": "python",
   "pygments_lexer": "ipython3",
   "version": "3.9.16"
  }
 },
 "nbformat": 4,
 "nbformat_minor": 5
}
