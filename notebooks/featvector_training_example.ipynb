{
 "cells": [
  {
   "cell_type": "code",
   "execution_count": null,
   "id": "14de7c26",
   "metadata": {},
   "outputs": [],
   "source": [
    "import pandas as pd\n",
    "import matplotlib.pyplot as plt\n",
    "import numpy as np\n",
    "from sklearn.model_selection import cross_val_score, train_test_split\n",
    "import category_encoders as ce\n",
    "from sklearn.feature_selection import mutual_info_regression, mutual_info_classif\n",
    "from hisel import select\n",
    "from hisel.select import HSICSelector, FeatureType\n",
    "\n"
   ]
  },
  {
   "cell_type": "code",
   "execution_count": null,
   "id": "70a97250",
   "metadata": {},
   "outputs": [],
   "source": [
    "from tests.select_test import pyhsiclasso"
   ]
  },
  {
   "cell_type": "code",
   "execution_count": null,
   "id": "49b29891",
   "metadata": {},
   "outputs": [],
   "source": [
    "pd.set_option('display.max_columns', None)"
   ]
  },
  {
   "cell_type": "code",
   "execution_count": null,
   "id": "6fa27c03",
   "metadata": {},
   "outputs": [],
   "source": [
    "df = pd.read_csv('../tests/data/featvector_training_example.csv')"
   ]
  },
  {
   "cell_type": "markdown",
   "id": "b468f694",
   "metadata": {},
   "source": [
    "### Data preprocessing"
   ]
  },
  {
   "cell_type": "markdown",
   "id": "5cb5f3aa",
   "metadata": {},
   "source": [
    "1. Drop columns whose entries are all NaN"
   ]
  },
  {
   "cell_type": "code",
   "execution_count": null,
   "id": "09be74f9",
   "metadata": {},
   "outputs": [],
   "source": [
    "cnt = df.isna().sum()\n",
    "idxallna = cnt > .95 * len(df)\n",
    "allnacols = list(cnt.loc[idxallna].index)\n",
    "df.drop(columns = allnacols, inplace=True)\n",
    "print(f'Dimensionality of dataset after dropping: {df.shape}')"
   ]
  },
  {
   "cell_type": "markdown",
   "id": "5819357d",
   "metadata": {},
   "source": [
    "2. Drop rows that don't have `sum_volume_1m_cc`"
   ]
  },
  {
   "cell_type": "code",
   "execution_count": null,
   "id": "f957fd1a",
   "metadata": {},
   "outputs": [],
   "source": [
    "idxnov1m = df['sum_volume_1m_cc'].isna()\n",
    "df = df.loc[~idxnov1m, :]\n",
    "print(f'Dimensionality of dataset after dropping: {df.shape}')"
   ]
  },
  {
   "cell_type": "markdown",
   "id": "89f87640",
   "metadata": {},
   "source": [
    "3. Fill NaNs"
   ]
  },
  {
   "cell_type": "code",
   "execution_count": null,
   "id": "cb8e6a02",
   "metadata": {},
   "outputs": [],
   "source": [
    "print(f'20 features with the most NaNs:\\n{df.isna().sum().sort_values(ascending=False).head(20)}')\n",
    "df = df.fillna(.0)"
   ]
  },
  {
   "cell_type": "markdown",
   "id": "f10ad5f9",
   "metadata": {},
   "source": [
    "4. Ordinal encoding of categorical features"
   ]
  },
  {
   "cell_type": "code",
   "execution_count": null,
   "id": "e67f3848",
   "metadata": {},
   "outputs": [],
   "source": [
    "cattypes = ['object'] \n",
    "catcols = list(df.select_dtypes(include=cattypes).columns)\n",
    "ordinal_encoder = ce.OrdinalEncoder(cols=catcols)\n",
    "ordinal_encoder.fit(df)\n",
    "df = ordinal_encoder.transform(df)"
   ]
  },
  {
   "cell_type": "markdown",
   "id": "d7fb13c1",
   "metadata": {},
   "source": [
    "5. Train-test split"
   ]
  },
  {
   "cell_type": "code",
   "execution_count": null,
   "id": "1306d15e",
   "metadata": {},
   "outputs": [],
   "source": [
    "X_train, X_test, y_train, y_test = train_test_split(\n",
    "    df.drop(\n",
    "        columns = [\n",
    "            'guest_ltv_3m'\n",
    "        ],\n",
    "        axis=1\n",
    "    ),\n",
    "    df[['guest_ltv_3m']],\n",
    "    test_size=0.3,\n",
    "    random_state=40\n",
    ")"
   ]
  },
  {
   "cell_type": "code",
   "execution_count": null,
   "id": "3ba0eb82",
   "metadata": {},
   "outputs": [],
   "source": [
    "print(f'X_train.shape: {X_train.shape}')\n",
    "print(f'X_test.shape: {X_test.shape}')\n",
    "print(f'y_train.shape: {y_train.shape}')\n",
    "print(f'y_test.shape: {y_test.shape}')"
   ]
  },
  {
   "cell_type": "code",
   "execution_count": null,
   "id": "efd7952b",
   "metadata": {},
   "outputs": [],
   "source": [
    "# df_ = df\n",
    "# ydf = df_[['guest_ltv_3m']].copy()\n",
    "# xdf = df_.drop(columns = ['guest_ltv_3m']).astype(float)\n",
    "# x = xdf.values\n",
    "# y = ydf.values"
   ]
  },
  {
   "cell_type": "code",
   "execution_count": null,
   "id": "d29de181",
   "metadata": {},
   "outputs": [],
   "source": [
    "# pyhsiclasso_selection = pyhsiclasso(\n",
    "#     x, \n",
    "#     y, \n",
    "#     xfeattype=FeatureType.CONT, \n",
    "#     yfeattype=FeatureType.DISCR,\n",
    "#     n_features=100,\n",
    "#     batch_size=400\n",
    "# )"
   ]
  },
  {
   "cell_type": "code",
   "execution_count": null,
   "id": "66ad82bd",
   "metadata": {},
   "outputs": [],
   "source": [
    "# print(sorted(pyhsiclasso_selection))"
   ]
  },
  {
   "cell_type": "code",
   "execution_count": null,
   "id": "87c2b59c",
   "metadata": {},
   "outputs": [],
   "source": [
    "ydf = df[['guest_ltv_3m']]\n",
    "xdf = df.drop(columns = ['guest_ltv_3m'])"
   ]
  },
  {
   "cell_type": "code",
   "execution_count": null,
   "id": "5c84a5d8",
   "metadata": {},
   "outputs": [],
   "source": [
    "batch_size = len(df)\n",
    "minibatch_size = 200\n",
    "number_of_epochs = 3\n",
    "mi_threshold = .09\n",
    "hsic_threshold = .01\n",
    "device = None # run on CPU"
   ]
  },
  {
   "cell_type": "code",
   "execution_count": null,
   "id": "db5c980a",
   "metadata": {},
   "outputs": [],
   "source": [
    "selection = select.select(\n",
    "    xdf,\n",
    "    ydf,\n",
    "    mi_threshold=mi_threshold,\n",
    "    hsic_threshold=hsic_threshold,\n",
    "    batch_size=batch_size,\n",
    "    minibatch_size=minibatch_size,\n",
    "    number_of_epochs=number_of_epochs,\n",
    "    device=device,\n",
    ")"
   ]
  },
  {
   "cell_type": "code",
   "execution_count": null,
   "id": "188087a9",
   "metadata": {},
   "outputs": [],
   "source": [
    "curve = selection.regcurve\n",
    "plt.plot(np.arange(1, 1+len(curve)), curve)"
   ]
  },
  {
   "cell_type": "code",
   "execution_count": null,
   "id": "cb11ad07",
   "metadata": {},
   "outputs": [],
   "source": [
    "paths = selection.lassopaths\n",
    "paths.plot(figsize=(18, 12))"
   ]
  },
  {
   "cell_type": "code",
   "execution_count": null,
   "id": "9a41f371",
   "metadata": {},
   "outputs": [],
   "source": [
    "selection.mi_ordered_features"
   ]
  },
  {
   "cell_type": "code",
   "execution_count": null,
   "id": "a7afd552",
   "metadata": {},
   "outputs": [],
   "source": [
    "selection.hsic_ordered_features"
   ]
  }
 ],
 "metadata": {
  "kernelspec": {
   "display_name": "hiselc",
   "language": "python",
   "name": "hiselc"
  },
  "language_info": {
   "codemirror_mode": {
    "name": "ipython",
    "version": 3
   },
   "file_extension": ".py",
   "mimetype": "text/x-python",
   "name": "python",
   "nbconvert_exporter": "python",
   "pygments_lexer": "ipython3",
   "version": "3.9.16"
  }
 },
 "nbformat": 4,
 "nbformat_minor": 5
}
