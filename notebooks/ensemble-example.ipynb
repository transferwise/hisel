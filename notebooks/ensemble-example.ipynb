{
 "cells": [
  {
   "cell_type": "code",
   "execution_count": null,
   "id": "802e8c73",
   "metadata": {},
   "outputs": [],
   "source": [
    "import numpy as np\n",
    "import pandas as pd\n",
    "import seaborn as sns\n",
    "import itertools\n",
    "from sklearn.metrics import adjusted_mutual_info_score\n",
    "\n",
    "\n",
    "from hisel import select\n",
    "from hisel.select import FeatureType, HSICSelector as Selector"
   ]
  },
  {
   "cell_type": "code",
   "execution_count": null,
   "id": "798f7c6d",
   "metadata": {},
   "outputs": [],
   "source": [
    "k = 5\n",
    "n = 1000\n",
    "d = 10"
   ]
  },
  {
   "cell_type": "code",
   "execution_count": null,
   "id": "50b99be8",
   "metadata": {},
   "outputs": [],
   "source": [
    "x0 = np.random.randint(k, size=(n, 1))\n",
    "x1 = np.random.randint(k, size=(n, 1))\n",
    "ms = np.random.randint(low=2, high=20, size = d-2)\n",
    "others = [np.random.choice(m, size=(n, 1)) for m in ms]\n",
    "all_ = np.concatenate(\n",
    "    [x0, x1] + others,\n",
    "    axis=1\n",
    ")\n",
    "y = np.asarray(x0 == x1, dtype=int) # k + x0 - x1 # np.asarray(x0 == x1, dtype=int)\n",
    "permuter =  np.random.permutation(np.eye(d, dtype=int).T).T\n",
    "x = np.array(all_ @ permuter, dtype=int)\n",
    "expected_features = [np.argmax(permuter[0, :]), np.argmax(permuter[1, :])]"
   ]
  },
  {
   "cell_type": "code",
   "execution_count": null,
   "id": "e6236e9e",
   "metadata": {},
   "outputs": [],
   "source": [
    "assert np.all(x[:, expected_features[0]] == x0[:, 0])\n",
    "assert np.all(x[:, expected_features[1]] == x1[:, 0])"
   ]
  },
  {
   "cell_type": "code",
   "execution_count": null,
   "id": "f83edaef",
   "metadata": {},
   "outputs": [],
   "source": [
    "sns.scatterplot(x = x0[:, 0] - x1[:, 0], y = y[:, 0])"
   ]
  },
  {
   "cell_type": "code",
   "execution_count": null,
   "id": "140b9f88",
   "metadata": {},
   "outputs": [],
   "source": [
    "xdf = pd.DataFrame(x, columns = [f'x{i}' for i in range(d)])\n",
    "ydf = pd.DataFrame(y, columns = ['y0'])"
   ]
  },
  {
   "cell_type": "code",
   "execution_count": null,
   "id": "139b18ff",
   "metadata": {},
   "outputs": [],
   "source": [
    "ksgselection, mis = select.ksgmi(xdf, ydf, threshold=0.01)"
   ]
  },
  {
   "cell_type": "code",
   "execution_count": null,
   "id": "1487ff0e",
   "metadata": {},
   "outputs": [],
   "source": [
    "selector = Selector(x, y, xfeattype=FeatureType.DISCR, yfeattype=FeatureType.DISCR)"
   ]
  },
  {
   "cell_type": "code",
   "execution_count": null,
   "id": "afab6f16",
   "metadata": {},
   "outputs": [],
   "source": [
    "batch_size = n // 10\n",
    "minibatch_size = 200\n",
    "number_of_epochs = 3\n",
    "threshold = .0\n",
    "device = None # run on CPU"
   ]
  },
  {
   "cell_type": "code",
   "execution_count": null,
   "id": "01efe57c",
   "metadata": {},
   "outputs": [],
   "source": [
    "selection = selector.select(\n",
    "    number_of_features=2,\n",
    "    batch_size=batch_size,\n",
    "    minibatch_size=minibatch_size,\n",
    "    number_of_epochs=number_of_epochs,\n",
    "    device=device\n",
    ")"
   ]
  },
  {
   "cell_type": "code",
   "execution_count": null,
   "id": "304e4d02",
   "metadata": {},
   "outputs": [],
   "source": [
    "autoselection = selector.autoselect(\n",
    "    threshold=threshold,\n",
    "    batch_size=batch_size,\n",
    "    minibatch_size=minibatch_size,\n",
    "    number_of_epochs=number_of_epochs,\n",
    "    device=device\n",
    ")"
   ]
  },
  {
   "cell_type": "code",
   "execution_count": null,
   "id": "04bf0dc7",
   "metadata": {},
   "outputs": [],
   "source": [
    "expected_features"
   ]
  },
  {
   "cell_type": "code",
   "execution_count": null,
   "id": "db7e60b4",
   "metadata": {},
   "outputs": [],
   "source": [
    "selection"
   ]
  },
  {
   "cell_type": "code",
   "execution_count": null,
   "id": "b7dc9473",
   "metadata": {},
   "outputs": [],
   "source": [
    "autoselection"
   ]
  },
  {
   "cell_type": "code",
   "execution_count": null,
   "id": "e8312d84",
   "metadata": {},
   "outputs": [],
   "source": [
    "mis"
   ]
  },
  {
   "cell_type": "code",
   "execution_count": null,
   "id": "3d1459fb",
   "metadata": {},
   "outputs": [],
   "source": [
    "def onedimlabel(x):\n",
    "    assert x.ndim == 2\n",
    "    ns = np.amax(x, axis=0)\n",
    "    res = np.array(x[:, 0], copy=True)\n",
    "    m = 1\n",
    "    for i in range(1, x.shape[1]):\n",
    "        m *= max(1, ns[i-1])\n",
    "        res += (1+m) * x[:, i]\n",
    "    return res"
   ]
  },
  {
   "cell_type": "code",
   "execution_count": null,
   "id": "16a8e7f5",
   "metadata": {},
   "outputs": [],
   "source": [
    "miscores = {subset: \n",
    "           adjusted_mutual_info_score(onedimlabel(x[:, list(subset)]), y[:, 0])\n",
    "            for l in range(1, 3)\n",
    "            for subset in itertools.combinations(list(range(d)), l)\n",
    "            \n",
    "}"
   ]
  },
  {
   "cell_type": "code",
   "execution_count": null,
   "id": "360d002f",
   "metadata": {},
   "outputs": [],
   "source": [
    "miscores"
   ]
  },
  {
   "cell_type": "code",
   "execution_count": null,
   "id": "168eb38b",
   "metadata": {},
   "outputs": [],
   "source": [
    "s = (0,1)\n",
    "mi = 0\n",
    "for k, v in miscores.items():\n",
    "    if v > mi:\n",
    "        s = k\n",
    "        mi = v"
   ]
  },
  {
   "cell_type": "code",
   "execution_count": null,
   "id": "2a6c91cc",
   "metadata": {},
   "outputs": [],
   "source": [
    "s"
   ]
  },
  {
   "cell_type": "code",
   "execution_count": null,
   "id": "c01b4485",
   "metadata": {},
   "outputs": [],
   "source": [
    "miscores[s]"
   ]
  },
  {
   "cell_type": "code",
   "execution_count": null,
   "id": "837454e3",
   "metadata": {},
   "outputs": [],
   "source": [
    "from hisel import hsic"
   ]
  },
  {
   "cell_type": "code",
   "execution_count": null,
   "id": "38056f04",
   "metadata": {},
   "outputs": [],
   "source": [
    "n * n * hsic.hsic_b(\n",
    "    x[:, s],\n",
    "    y\n",
    ")"
   ]
  }
 ],
 "metadata": {
  "kernelspec": {
   "display_name": "hiselc",
   "language": "python",
   "name": "hiselc"
  },
  "language_info": {
   "codemirror_mode": {
    "name": "ipython",
    "version": 3
   },
   "file_extension": ".py",
   "mimetype": "text/x-python",
   "name": "python",
   "nbconvert_exporter": "python",
   "pygments_lexer": "ipython3",
   "version": "3.9.16"
  }
 },
 "nbformat": 4,
 "nbformat_minor": 5
}
