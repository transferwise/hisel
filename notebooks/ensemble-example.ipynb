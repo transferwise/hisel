{
 "cells": [
  {
   "cell_type": "markdown",
   "id": "8b8c89e9",
   "metadata": {},
   "source": [
    "This notebook present an example where `hisel` is capable of performing an exact selection, whereas other methods like [sklearn.feature_selection.mutual_info_classif](https://scikit-learn.org/stable/modules/generated/sklearn.feature_selection.mutual_info_classif.html) are not. "
   ]
  },
  {
   "cell_type": "code",
   "execution_count": 1,
   "id": "802e8c73",
   "metadata": {},
   "outputs": [],
   "source": [
    "import numpy as np\n",
    "import pandas as pd\n",
    "import seaborn as sns\n",
    "import itertools\n",
    "from sklearn.metrics import adjusted_mutual_info_score\n",
    "\n",
    "\n",
    "from hisel import select, hsic, categorical"
   ]
  },
  {
   "cell_type": "code",
   "execution_count": 2,
   "id": "798f7c6d",
   "metadata": {},
   "outputs": [],
   "source": [
    "k = 5\n",
    "n = 2000\n",
    "d = 20"
   ]
  },
  {
   "cell_type": "code",
   "execution_count": 3,
   "id": "50b99be8",
   "metadata": {},
   "outputs": [],
   "source": [
    "x0 = np.random.randint(k, size=(n, 1))\n",
    "x1 = np.random.randint(k, size=(n, 1))\n",
    "ms = np.random.randint(low=2, high=20, size = d-2)\n",
    "others = [np.random.choice(m, size=(n, 1)) for m in ms]\n",
    "all_ = np.concatenate(\n",
    "    [x0, x1] + others,\n",
    "    axis=1\n",
    ")\n",
    "y = np.asarray(x0 == x1, dtype=int) # k + x0 - x1 # np.asarray(x0 == x1, dtype=int)\n",
    "permuter =  np.random.permutation(np.eye(d, dtype=int).T).T\n",
    "x = np.array(all_ @ permuter, dtype=int)\n",
    "expected_features = [np.argmax(permuter[0, :]), np.argmax(permuter[1, :])]"
   ]
  },
  {
   "cell_type": "code",
   "execution_count": 4,
   "id": "e6236e9e",
   "metadata": {},
   "outputs": [],
   "source": [
    "assert np.all(x[:, expected_features[0]] == x0[:, 0])\n",
    "assert np.all(x[:, expected_features[1]] == x1[:, 0])"
   ]
  },
  {
   "cell_type": "code",
   "execution_count": 5,
   "id": "f83edaef",
   "metadata": {},
   "outputs": [],
   "source": [
    "# sns.scatterplot(x = x0[:, 0] - x1[:, 0], y = y[:, 0])"
   ]
  },
  {
   "cell_type": "code",
   "execution_count": 6,
   "id": "140b9f88",
   "metadata": {},
   "outputs": [],
   "source": [
    "xdf = pd.DataFrame(x, columns = [f'x{i}' for i in range(d)])\n",
    "ydf = pd.Series(y[:, 0], name='y')"
   ]
  },
  {
   "cell_type": "markdown",
   "id": "e37502d7",
   "metadata": {},
   "source": [
    "### Selection with marginal 1D ksg mutual info"
   ]
  },
  {
   "cell_type": "markdown",
   "id": "665cab51",
   "metadata": {},
   "source": [
    "Under the hood, this method calls \n",
    "[sklearn.feature_selection.mutual_info_classif](https://scikit-learn.org/stable/modules/generated/sklearn.feature_selection.mutual_info_classif.html)"
   ]
  },
  {
   "cell_type": "code",
   "execution_count": 7,
   "id": "139b18ff",
   "metadata": {},
   "outputs": [
    {
     "name": "stdout",
     "output_type": "stream",
     "text": [
      "ksg-mi preprocessing: 20 features are pre-selected\n"
     ]
    }
   ],
   "source": [
    "ksgselection, mis = select.ksgmi(xdf, ydf, threshold=0.01)\n",
    "ksg_selection = [int(feat.split('x')[-1]) for feat in ksgselection]"
   ]
  },
  {
   "cell_type": "code",
   "execution_count": 8,
   "id": "5ffca204",
   "metadata": {},
   "outputs": [
    {
     "name": "stdout",
     "output_type": "stream",
     "text": [
      "Expected features: [4, 19]\n",
      "Marginal KSG selection: [0, 1, 2, 3, 4, 5, 6, 7, 8, 9, 10, 11, 12, 13, 14, 15, 16, 17, 18, 19]\n"
     ]
    }
   ],
   "source": [
    "print(f'Expected features: {sorted(expected_features)}')\n",
    "print(f'Marginal KSG selection: {sorted(ksg_selection)}')"
   ]
  },
  {
   "cell_type": "markdown",
   "id": "7a235b4b",
   "metadata": {},
   "source": [
    "## Selection with HISEL"
   ]
  },
  {
   "cell_type": "code",
   "execution_count": 9,
   "id": "e281fe2f",
   "metadata": {},
   "outputs": [
    {
     "name": "stdout",
     "output_type": "stream",
     "text": [
      "Number of categorical features: 20\n"
     ]
    },
    {
     "name": "stderr",
     "output_type": "stream",
     "text": [
      "100%|█████████████████████████████████████| 152/152 [00:00<00:00, 472247.56it/s]\n"
     ]
    },
    {
     "name": "stdout",
     "output_type": "stream",
     "text": [
      "Number of selected categorical features: 2\n"
     ]
    }
   ],
   "source": [
    "results = categorical.select(\n",
    "    xdf, ydf,\n",
    "    num_permutations=80,\n",
    "    max_iter=1,\n",
    "    parallel=True\n",
    ")\n",
    "hisel_selection = list(results.indexes)"
   ]
  },
  {
   "cell_type": "code",
   "execution_count": 10,
   "id": "4e5c9a81",
   "metadata": {},
   "outputs": [
    {
     "name": "stdout",
     "output_type": "stream",
     "text": [
      "Expected features: [4, 19]\n",
      "HISEL selection: [4, 19]\n"
     ]
    }
   ],
   "source": [
    "print(f'Expected features: {sorted(expected_features)}')\n",
    "print(f'HISEL selection: {sorted(hisel_selection)}')"
   ]
  },
  {
   "cell_type": "markdown",
   "id": "d88d85c5",
   "metadata": {},
   "source": [
    "### Confirm that HSIC_b correctly assigns highest dependence to the correct selection"
   ]
  },
  {
   "cell_type": "code",
   "execution_count": 11,
   "id": "38056f04",
   "metadata": {},
   "outputs": [],
   "source": [
    "correct_dependence = n * n * hsic.hsic_b(\n",
    "    x[:, list(expected_features)],\n",
    "    y\n",
    ")\n",
    "nsel = np.random.randint(low=1, high=d)\n",
    "random_selection = np.random.choice(list(range(d)), replace=False, size=nsel)\n",
    "random_dependence = n * n * hsic.hsic_b(\n",
    "    x[:, list(random_selection)],\n",
    "    y\n",
    ")"
   ]
  },
  {
   "cell_type": "code",
   "execution_count": 12,
   "id": "92bc809f",
   "metadata": {},
   "outputs": [
    {
     "name": "stdout",
     "output_type": "stream",
     "text": [
      "HSIC-estimated dependence between correct selection and target: 1.0000000000000002\n",
      "HSIC-estimated dependence between random selection and target: 0.25537749584046077\n"
     ]
    }
   ],
   "source": [
    "print(f'HSIC-estimated dependence between correct selection and target: {correct_dependence}')\n",
    "print(f'HSIC-estimated dependence between random selection and target: {random_dependence}')"
   ]
  }
 ],
 "metadata": {
  "kernelspec": {
   "display_name": "hiseltest",
   "language": "python",
   "name": "hiseltest"
  },
  "language_info": {
   "codemirror_mode": {
    "name": "ipython",
    "version": 3
   },
   "file_extension": ".py",
   "mimetype": "text/x-python",
   "name": "python",
   "nbconvert_exporter": "python",
   "pygments_lexer": "ipython3",
   "version": "3.9.16"
  }
 },
 "nbformat": 4,
 "nbformat_minor": 5
}
